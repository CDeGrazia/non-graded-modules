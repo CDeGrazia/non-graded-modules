{
  "nbformat": 4,
  "nbformat_minor": 0,
  "metadata": {
    "colab": {
      "provenance": [],
      "include_colab_link": true
    },
    "kernelspec": {
      "name": "python3",
      "display_name": "Python 3"
    },
    "language_info": {
      "name": "python"
    }
  },
  "cells": [
    {
      "cell_type": "markdown",
      "metadata": {
        "id": "view-in-github",
        "colab_type": "text"
      },
      "source": [
        "<a href=\"https://colab.research.google.com/github/CDeGrazia/non-graded-modules/blob/main/GD_Module5_practice.ipynb\" target=\"_parent\"><img src=\"https://colab.research.google.com/assets/colab-badge.svg\" alt=\"Open In Colab\"/></a>"
      ]
    },
    {
      "cell_type": "markdown",
      "source": [
        "# **Module 5 Exercises Text/Strings**"
      ],
      "metadata": {
        "id": "3MwHcats0hKm"
      }
    },
    {
      "cell_type": "code",
      "source": [
        "from IPython.display import YouTubeVideo\n",
        "YouTubeVideo('hH_MUiG4OII', width=800, height=300)"
      ],
      "metadata": {
        "colab": {
          "base_uri": "https://localhost:8080/",
          "height": 321
        },
        "id": "jtqRg-PkfAXn",
        "outputId": "6783ca73-499c-4a98-d628-55c90052cf9f"
      },
      "execution_count": null,
      "outputs": [
        {
          "output_type": "execute_result",
          "data": {
            "text/plain": [
              "<IPython.lib.display.YouTubeVideo at 0x7f9a648a39a0>"
            ],
            "text/html": [
              "\n",
              "        <iframe\n",
              "            width=\"800\"\n",
              "            height=\"300\"\n",
              "            src=\"https://www.youtube.com/embed/hH_MUiG4OII\"\n",
              "            frameborder=\"0\"\n",
              "            allowfullscreen\n",
              "        ></iframe>\n",
              "        "
            ],
            "image/jpeg": "[encoded data removed]"
          },
          "metadata": {},
          "execution_count": 1
        }
      ]
    },
    {
      "cell_type": "markdown",
      "source": [
        "## **Creating Strings**"
      ],
      "metadata": {
        "id": "vVewuxnd0tjk"
      }
    },
    {
      "cell_type": "markdown",
      "source": [
        "### **Quotes**"
      ],
      "metadata": {
        "id": "G03vaaWQ0xXY"
      }
    },
    {
      "cell_type": "code",
      "source": [
        "# In Python you can create a string by enclosing characters in matching single or double quotes, but its preferred to only use single quotes for a single charater string and double quotes for multiple character strings\n",
        "\n",
        "letterA = 'A'\n",
        "\n",
        "print( type(letterA))  # type  function used to display the data type of letterA\n",
        "\n",
        "firstWord = \"Start\"\n",
        "\n",
        "print( type(firstWord))  # type  function used to display the data type of firstWord"
      ],
      "metadata": {
        "colab": {
          "base_uri": "https://localhost:8080/"
        },
        "id": "K1KGU4Lw1OLO",
        "outputId": "a9406b57-1a6e-428b-bbc9-d6b769f448a4"
      },
      "execution_count": null,
      "outputs": [
        {
          "output_type": "stream",
          "name": "stdout",
          "text": [
            "<class 'str'>\n",
            "<class 'str'>\n"
          ]
        }
      ]
    },
    {
      "cell_type": "markdown",
      "source": [
        "*keep in mind that there is no char data type in python, but you know what a char is now and that it is used in other programming languages.*"
      ],
      "metadata": {
        "id": "7aCA6Uka2rBB"
      }
    },
    {
      "cell_type": "markdown",
      "source": [
        "## **String type casting**"
      ],
      "metadata": {
        "id": "O31nbTTv0yAh"
      }
    },
    {
      "cell_type": "code",
      "source": [
        "num1 = 234\n",
        "print( type(num1))  # type  function used to display the data type of num1\n",
        "\n",
        "wordNum1 = str(num1) # type casted num1 to a string and stored the value in wordNum1\n",
        "\n",
        "print( type(wordNum1))  # type  function used to display the data type of num1\n"
      ],
      "metadata": {
        "colab": {
          "base_uri": "https://localhost:8080/"
        },
        "id": "oCJhVsid1wIO",
        "outputId": "55b9207d-f40a-4d9c-af29-889620352421"
      },
      "execution_count": null,
      "outputs": [
        {
          "output_type": "stream",
          "name": "stdout",
          "text": [
            "<class 'int'>\n",
            "<class 'str'>\n"
          ]
        }
      ]
    },
    {
      "cell_type": "markdown",
      "source": [
        "## **Formatting Strings**"
      ],
      "metadata": {
        "id": "eXAqLlLY7lxa"
      }
    },
    {
      "cell_type": "code",
      "source": [
        "from IPython.display import YouTubeVideo\n",
        "YouTubeVideo('J2Mr9RyIOSI', width=800, height=300)"
      ],
      "metadata": {
        "colab": {
          "base_uri": "https://localhost:8080/",
          "height": 321
        },
        "id": "W78U-h26fHpM",
        "outputId": "6d262e0d-bfae-4aed-88e1-7fc614ca4238"
      },
      "execution_count": null,
      "outputs": [
        {
          "output_type": "execute_result",
          "data": {
            "text/plain": [
              "<IPython.lib.display.YouTubeVideo at 0x7f9a681758b0>"
            ],
            "text/html": [
              "\n",
              "        <iframe\n",
              "            width=\"800\"\n",
              "            height=\"300\"\n",
              "            src=\"https://www.youtube.com/embed/J2Mr9RyIOSI\"\n",
              "            frameborder=\"0\"\n",
              "            allowfullscreen\n",
              "        ></iframe>\n",
              "        "
            ],
            "image/jpeg": "[encoded data removed]"
          },
          "metadata": {},
          "execution_count": 2
        }
      ]
    },
    {
      "cell_type": "markdown",
      "source": [
        "## **Escape sequence**"
      ],
      "metadata": {
        "id": "wTs29IT-0yU-"
      }
    },
    {
      "cell_type": "markdown",
      "source": [
        " **commonly used escape sequences**"
      ],
      "metadata": {
        "id": "jlZOD0yq4q3O"
      }
    },
    {
      "cell_type": "markdown",
      "source": [
        "Following table provides the list of escape characters in Python.\n",
        "\n",
        "Code\t$\\> \\>$  Description\n",
        "\n",
        "\\’ $\\>$ $\\>$\t    Quote\n",
        "\n",
        "\n",
        "\n",
        "\n",
        "\\”\t $\\>$ $\\>$       Double Quote\n",
        "\n",
        "\\\\\t$\\>$ $\\>$        Backslash\n",
        "\n",
        "\\n\t$\\>$ $\\>$        New Line\n",
        "\n",
        "\\r\t $\\>$ $\\>$       Carriage Retrun\n",
        "\n",
        "\\t\t$\\>$ $\\>$       Tab\n",
        "\n",
        "\\b\t $\\>$ $\\>$   Backspace\n",
        "\n",
        "\\f\t  $\\>$ $\\>$  Form Feed\n",
        "\n",
        "\\ooo $\\>$ $\\>$\t  Octal Value\n",
        "\n",
        "\\xhh\t$\\>$ $\\>$  Hex Value\n"
      ],
      "metadata": {
        "id": "8pnPeUD742t6"
      }
    },
    {
      "cell_type": "markdown",
      "source": [
        "*Python lets you escape the meaning of some characters within strings to achieve effects that would otherwise be difficult to express. By preceding a character with a backslash (\\), you give it a special meaning. The most common escape sequence is \\n, which means to begin a new line. With this you can create multiline strings from a one-line string*"
      ],
      "metadata": {
        "id": "YeTfuVY871XS"
      }
    },
    {
      "cell_type": "code",
      "source": [
        "palindrome = 'A man,\\nA plan,\\nA canal:\\nPanama.'\n",
        "print(palindrome)"
      ],
      "metadata": {
        "colab": {
          "base_uri": "https://localhost:8080/"
        },
        "id": "LbB-EhwG75kL",
        "outputId": "f0b8615b-7a3b-4fd9-dd85-d70dc462eb93"
      },
      "execution_count": null,
      "outputs": [
        {
          "output_type": "stream",
          "name": "stdout",
          "text": [
            "A man,\n",
            "A plan,\n",
            "A canal:\n",
            "Panama.\n"
          ]
        }
      ]
    },
    {
      "cell_type": "code",
      "source": [
        "# lets use the tab escape sequence \\t\n",
        "print('\\tabc')\n",
        "\n",
        "print('a\\tbc')\n",
        "\n",
        "print('ab\\tc')\n",
        "\n",
        "print('abc\\t')"
      ],
      "metadata": {
        "colab": {
          "base_uri": "https://localhost:8080/"
        },
        "id": "Ij6LRqYz7-Gu",
        "outputId": "a892fe96-c855-4e56-96d3-e9c38cf73946"
      },
      "execution_count": null,
      "outputs": [
        {
          "output_type": "stream",
          "name": "stdout",
          "text": [
            "\tabc\n",
            "a\tbc\n",
            "ab\tc\n",
            "abc\t\n"
          ]
        }
      ]
    },
    {
      "cell_type": "code",
      "source": [
        "#ou might also need \\' or \\\" to specify a literal single or double quote inside a string that’s quoted by the same character\n",
        "\n",
        "testimony = \"\\\"I did nothing!\\\" he said. \\\"Or that other thing.\\\"\"\n",
        "print(testimony,'\\n')\n",
        "\n",
        "\n",
        "fact = \"The world's largest rubber duck was 54'2\\\" by 65'7\\\" by 105'\"\n",
        "print(fact)"
      ],
      "metadata": {
        "colab": {
          "base_uri": "https://localhost:8080/"
        },
        "id": "WPKBnzW48MOR",
        "outputId": "d5e6d6f6-8e36-4d29-e605-90d9532c05e6"
      },
      "execution_count": null,
      "outputs": [
        {
          "output_type": "stream",
          "name": "stdout",
          "text": [
            "\"I did nothing!\" he said. \"Or that other thing.\" \n",
            "\n",
            "The world's largest rubber duck was 54'2\" by 65'7\" by 105'\n"
          ]
        }
      ]
    },
    {
      "cell_type": "code",
      "source": [
        "# And if you need a literal backslash, type two of them (the first escapes the second)\n",
        "speech = 'The backslash (\\\\) bends over backwards to please you.'\n",
        "print(speech)"
      ],
      "metadata": {
        "colab": {
          "base_uri": "https://localhost:8080/"
        },
        "id": "IlQlDDM_8sgX",
        "outputId": "df1c3e14-82d7-4121-87bd-1ff25b3430df"
      },
      "execution_count": null,
      "outputs": [
        {
          "output_type": "stream",
          "name": "stdout",
          "text": [
            "The backslash (\\) bends over backwards to please you.\n"
          ]
        }
      ]
    },
    {
      "cell_type": "markdown",
      "source": [
        "## **Concatenation**"
      ],
      "metadata": {
        "id": "pjyphtlW0yzh"
      }
    },
    {
      "cell_type": "code",
      "source": [
        "# We can combine strings together using the + operator, no space is added in the process.\n",
        "\n",
        "print(\"The first few words \" + \"combined with the next few words.\") #using concatenation\n",
        "\n",
        "print(\"The first few words\" , \"combined with the next few words.\") # letting the print function combine arguments for us"
      ],
      "metadata": {
        "colab": {
          "base_uri": "https://localhost:8080/"
        },
        "id": "mWTtHOHp3M-E",
        "outputId": "6d65f724-5f6b-49a4-b9e3-3012e98de6e4"
      },
      "execution_count": null,
      "outputs": [
        {
          "output_type": "stream",
          "name": "stdout",
          "text": [
            "The first few words combined with the next few words.\n",
            "The first few words combined with the next few words.\n"
          ]
        }
      ]
    },
    {
      "cell_type": "code",
      "source": [
        "# lets do the same task using variables instead of SLC's (String Literal Constants\n",
        "\n",
        "words1 = \"The first few words\"\n",
        "words2 = \"combined with the next few words.\"\n",
        "\n",
        "print( words1 + \" \" + words2) #using concatenation, with a space included  manually\n",
        "\n",
        "print(words1 , words2) # letting the print function combine arguments for us"
      ],
      "metadata": {
        "colab": {
          "base_uri": "https://localhost:8080/"
        },
        "id": "PF7qA48u32rM",
        "outputId": "1bbd70c6-19d0-4582-cf0a-5344451602d9"
      },
      "execution_count": null,
      "outputs": [
        {
          "output_type": "stream",
          "name": "stdout",
          "text": [
            "The first few words combined with the next few words.\n",
            "The first few words combined with the next few words.\n"
          ]
        }
      ]
    },
    {
      "cell_type": "code",
      "source": [
        "from IPython.display import YouTubeVideo\n",
        "YouTubeVideo('yLJ4B8xky-A', width=800, height=300)"
      ],
      "metadata": {
        "id": "EDxRq5xHfQ2I"
      },
      "execution_count": null,
      "outputs": []
    },
    {
      "cell_type": "markdown",
      "source": [
        "## **Duplication**"
      ],
      "metadata": {
        "id": "BlsYQUrU9bL9"
      }
    },
    {
      "cell_type": "code",
      "source": [
        "# You use the * operator to duplicate a string. \n",
        "start = 'Na ' * 4 + '\\n'\n",
        "middle = 'Hey ' * 3 + '\\n'\n",
        "end = 'Goodbye.'\n",
        "print(start + start + middle + end)"
      ],
      "metadata": {
        "colab": {
          "base_uri": "https://localhost:8080/"
        },
        "id": "gputHUGP9ltS",
        "outputId": "ba332891-4ecc-48e8-8af5-69438963813b"
      },
      "execution_count": null,
      "outputs": [
        {
          "output_type": "stream",
          "name": "stdout",
          "text": [
            "Na Na Na Na \n",
            "Na Na Na Na \n",
            "Hey Hey Hey \n",
            "Goodbye.\n"
          ]
        }
      ]
    },
    {
      "cell_type": "code",
      "source": [
        "# Write code to change the output above by modifying the number of repetitions and the order they are displayed, use concatenation and then do it again using ,'s and passing multiple arguments\n",
        "\n"
      ],
      "metadata": {
        "id": "3sau1PSUD9CL"
      },
      "execution_count": null,
      "outputs": []
    },
    {
      "cell_type": "markdown",
      "source": [
        "## **Get a Character with []** ***Indexing***"
      ],
      "metadata": {
        "id": "03rRuQzN90UV"
      }
    },
    {
      "cell_type": "code",
      "source": [
        "letters = 'abcdefghijklmnopqrstuvwxyz'\n",
        "print(letters[0]) # the first character\n",
        "\n",
        "print(letters[1]) # the second character\n",
        "\n",
        "print(letters[-1])  # the last character\n",
        "\n",
        "print(letters[-2])  # the second from the last character\n",
        "\n",
        "print(letters[25])\n",
        "\n",
        "print(letters[5])\n"
      ],
      "metadata": {
        "colab": {
          "base_uri": "https://localhost:8080/"
        },
        "id": "qrigDmgH-EhC",
        "outputId": "02229f48-2d2b-47fd-a5f7-3b32fa607599"
      },
      "execution_count": null,
      "outputs": [
        {
          "output_type": "stream",
          "name": "stdout",
          "text": [
            "a\n",
            "b\n",
            "z\n",
            "y\n",
            "z\n",
            "f\n"
          ]
        }
      ]
    },
    {
      "cell_type": "code",
      "source": [
        "# Write code to display the 8th character, a space then the 9th character \n",
        "\n",
        "mySentence = \" Hello World!\"\n",
        "\n",
        "# your code below"
      ],
      "metadata": {
        "id": "1JD_0cg9DsSW"
      },
      "execution_count": null,
      "outputs": []
    },
    {
      "cell_type": "code",
      "source": [
        "# don't forget that strings are immutable in Python, but not all programming languages\n",
        "name = 'Henny'\n",
        "name[0] = 'P'"
      ],
      "metadata": {
        "colab": {
          "base_uri": "https://localhost:8080/",
          "height": 201
        },
        "id": "ERgncWU5-mJa",
        "outputId": "f45c185a-96d7-4879-8442-3c705fcedad3"
      },
      "execution_count": null,
      "outputs": [
        {
          "output_type": "error",
          "ename": "TypeError",
          "evalue": "ignored",
          "traceback": [
            "\u001b[0;31m---------------------------------------------------------------------------\u001b[0m",
            "\u001b[0;31mTypeError\u001b[0m                                 Traceback (most recent call last)",
            "\u001b[0;32m<ipython-input-112-5179ca0168a7>\u001b[0m in \u001b[0;36m<module>\u001b[0;34m\u001b[0m\n\u001b[1;32m      1\u001b[0m \u001b[0;31m# don't forget that strings are immutable in Python, but not all programming languages\u001b[0m\u001b[0;34m\u001b[0m\u001b[0;34m\u001b[0m\u001b[0;34m\u001b[0m\u001b[0m\n\u001b[1;32m      2\u001b[0m \u001b[0mname\u001b[0m \u001b[0;34m=\u001b[0m \u001b[0;34m'Henny'\u001b[0m\u001b[0;34m\u001b[0m\u001b[0;34m\u001b[0m\u001b[0m\n\u001b[0;32m----> 3\u001b[0;31m \u001b[0mname\u001b[0m\u001b[0;34m[\u001b[0m\u001b[0;36m0\u001b[0m\u001b[0;34m]\u001b[0m \u001b[0;34m=\u001b[0m \u001b[0;34m'P'\u001b[0m\u001b[0;34m\u001b[0m\u001b[0;34m\u001b[0m\u001b[0m\n\u001b[0m",
            "\u001b[0;31mTypeError\u001b[0m: 'str' object does not support item assignment"
          ]
        }
      ]
    },
    {
      "cell_type": "code",
      "source": [
        "from IPython.display import YouTubeVideo\n",
        "YouTubeVideo('dwWDlLJVJhk', width=800, height=300)"
      ],
      "metadata": {
        "colab": {
          "base_uri": "https://localhost:8080/",
          "height": 321
        },
        "id": "Km_Mho3KfZt5",
        "outputId": "0e78b57a-0f5b-4d0b-d47b-08452ec4e029"
      },
      "execution_count": null,
      "outputs": [
        {
          "output_type": "execute_result",
          "data": {
            "text/plain": [
              "<IPython.lib.display.YouTubeVideo at 0x7f9a648ab820>"
            ],
            "text/html": [
              "\n",
              "        <iframe\n",
              "            width=\"800\"\n",
              "            height=\"300\"\n",
              "            src=\"https://www.youtube.com/embed/dwWDlLJVJhk\"\n",
              "            frameborder=\"0\"\n",
              "            allowfullscreen\n",
              "        ></iframe>\n",
              "        "
            ],
            "image/jpeg": "[encoded data removed]"
          },
          "metadata": {},
          "execution_count": 3
        }
      ]
    },
    {
      "cell_type": "markdown",
      "source": [
        "### **Slicing using indexing and the : $\\>$ $\\>$   [ : ]**"
      ],
      "metadata": {
        "id": "pova2kc_AANo"
      }
    },
    {
      "cell_type": "code",
      "source": [
        "# Let’s make a string of the lowercase English letters\n",
        "\n",
        "letters = 'abcdefghijklmnopqrstuvwxyz'\n",
        "# Using a plain : is the same as 0: (the entire string):\n",
        "\n",
        "print(letters[:])\n",
        "print(\"Using a plain : is the same as 0: (the entire string):\"+'\\n')\n",
        "\n",
        "# Here’s an example from offset 20 to the end:\n",
        "print(letters[20:])\n",
        "print(\"Here’s an example from offset 20 to the end:\"+'\\n')\n",
        "\n",
        "\n",
        "# Now, from offset 10 to the end:\n",
        "print(letters[10:])\n",
        "print(\"Now, from offset 10 to the end: \"+'\\n')\n",
        "    \n",
        "\n",
        "# And another, offset 12 through 14. Python does not include the end offset in the slice. The start offset is inclusive, and the end offset is exclusive:\n",
        "print(letters[12:15])\n",
        "print(\"# And another, offset 12 through 14. Python does not include the end offset in the slice. The start offset is inclusive, and the end offset is exclusive:\"+'\\n')\n",
        "\n",
        "# The three last characters:\n",
        "\n",
        "print(letters[-3:])\n",
        "print(\"In this next example, we go from offset 18 to the fourth before the end; notice the difference from the previous example, in which starting at –3 gets the x, but ending at –3 actually stops at –4, the w:\"+'\\n')\n",
        "# In this next example, we go from offset 18 to the fourth before the end; notice the difference from the previous example, in which starting at –3 gets the x, but ending at –3 actually stops at –4, the w:\n",
        "\n",
        "print(letters[18:-3])\n",
        "print(\"# In the following, we extract from 6 before the end to 3 before the end:\"+'\\n')\n",
        "# In the following, we extract from 6 before the end to 3 before the end:\n",
        "\n",
        "print(letters[-6:-2])\n",
        "print(\"# In the following, we extract from 6 before the end to 3 before the end:\"+'\\n')\n",
        "# If you want a step size other than 1, specify it after a second colon, as shown in the next series of examples.\n",
        "\n",
        "# From the start to the end, in steps of 7 characters:\n",
        "print(letters[::7])\n",
        "print(\"# From the start to the end, in steps of 7 characters:\"+'\\n')"
      ],
      "metadata": {
        "colab": {
          "base_uri": "https://localhost:8080/"
        },
        "id": "LtT2roEQAbKg",
        "outputId": "4e22f81b-eb71-4aa5-8602-ab4e0a24061d"
      },
      "execution_count": null,
      "outputs": [
        {
          "output_type": "stream",
          "name": "stdout",
          "text": [
            "abcdefghijklmnopqrstuvwxyz\n",
            "Using a plain : is the same as 0: (the entire string):\n",
            "\n",
            "uvwxyz\n",
            "Here’s an example from offset 20 to the end:\n",
            "\n",
            "klmnopqrstuvwxyz\n",
            "Now, from offset 10 to the end: \n",
            "\n",
            "mno\n",
            "# And another, offset 12 through 14. Python does not include the end offset in the slice. The start offset is inclusive, and the end offset is exclusive:\n",
            "\n",
            "xyz\n",
            "In this next example, we go from offset 18 to the fourth before the end; notice the difference from the previous example, in which starting at –3 gets the x, but ending at –3 actually stops at –4, the w:\n",
            "\n",
            "stuvw\n",
            "# In the following, we extract from 6 before the end to 3 before the end:\n",
            "\n",
            "uvwx\n",
            "# In the following, we extract from 6 before the end to 3 before the end:\n",
            "\n",
            "ahov\n",
            "# From the start to the end, in steps of 7 characters:\n",
            "\n"
          ]
        }
      ]
    },
    {
      "cell_type": "code",
      "source": [
        "# Write code to display the last 5 characters \n",
        "\n",
        "mySentence = \" Hello World!\"\n",
        "\n",
        "# your code below"
      ],
      "metadata": {
        "id": "BuUEFaIODWk3"
      },
      "execution_count": null,
      "outputs": []
    },
    {
      "cell_type": "markdown",
      "source": [
        "### **The  replace() function**"
      ],
      "metadata": {
        "id": "TUJRhMGn_0VP"
      }
    },
    {
      "cell_type": "code",
      "source": [
        "# We have work arounds that can stil get the job done temporarily\n",
        "name = 'Henny'\n",
        "print(name.replace('H', 'P'))\n",
        "print(name)\n",
        "print('P' + name[1:])\n"
      ],
      "metadata": {
        "colab": {
          "base_uri": "https://localhost:8080/"
        },
        "id": "lkKr-k-S-z8R",
        "outputId": "a28ddb8f-5296-4b51-f190-41b6978b971d"
      },
      "execution_count": null,
      "outputs": [
        {
          "output_type": "stream",
          "name": "stdout",
          "text": [
            "Penny\n",
            "Henny\n",
            "Penny\n"
          ]
        }
      ]
    },
    {
      "cell_type": "code",
      "source": [
        "# Can we do those chnges long term?\n",
        "print(name)\n",
        "name = name.replace('H', 'P') # we overwrote the entire value in the variable to change the single character\n",
        "print(name)"
      ],
      "metadata": {
        "colab": {
          "base_uri": "https://localhost:8080/"
        },
        "id": "wmd5WDxY_Whc",
        "outputId": "3be99a75-e1d5-4903-c03e-8d3476918221"
      },
      "execution_count": null,
      "outputs": [
        {
          "output_type": "stream",
          "name": "stdout",
          "text": [
            "Henny\n",
            "Penny\n"
          ]
        }
      ]
    },
    {
      "cell_type": "code",
      "source": [
        "setup = \"a duck goes into a bar...\"\n",
        "\n",
        "print(setup.replace('duck', 'marmoset')) # using the setup string object we replace contents temporarily but the value is \"NOT\" stored in the variable setup\n",
        "\n",
        "print(setup)"
      ],
      "metadata": {
        "colab": {
          "base_uri": "https://localhost:8080/"
        },
        "id": "pXxtfaBaJCdC",
        "outputId": "c1c1cb46-42b9-4e95-ccb6-8ad5f156441e"
      },
      "execution_count": null,
      "outputs": [
        {
          "output_type": "stream",
          "name": "stdout",
          "text": [
            "a marmoset goes into a bar...\n",
            "a duck goes into a bar...\n"
          ]
        }
      ]
    },
    {
      "cell_type": "markdown",
      "source": [
        "## **Get Length with len()**"
      ],
      "metadata": {
        "id": "JDAkuuqSEgNr"
      }
    },
    {
      "cell_type": "code",
      "source": [
        "#The len() function counts characters in a string:\n",
        "\n",
        "print( \"the length of\" , letters , \"is\" , len(letters))\n",
        "print( \"the length of\" , name , \"is\" , len(name))\n",
        "print( \"the length of\" , end , \"is\" , len(end))"
      ],
      "metadata": {
        "colab": {
          "base_uri": "https://localhost:8080/"
        },
        "id": "i8Da5S-YEpy0",
        "outputId": "9a9854b0-0a72-4e6f-e641-f5c0b57e24ee"
      },
      "execution_count": null,
      "outputs": [
        {
          "output_type": "stream",
          "name": "stdout",
          "text": [
            "the length of abcdefghijklmnopqrstuvwxyz is 26\n",
            "the length of Penny is 5\n",
            "the length of Goodbye. is 8\n"
          ]
        }
      ]
    },
    {
      "cell_type": "code",
      "source": [
        "# use the len() function and the index [] to print the character second from the end on each of the strings used in the code block above (hint: len - the number as the index)\n",
        "\n"
      ],
      "metadata": {
        "id": "3p_oKZVwFk-4"
      },
      "execution_count": null,
      "outputs": []
    },
    {
      "cell_type": "markdown",
      "source": [
        "### **Split with split()**"
      ],
      "metadata": {
        "id": "stjhgxcsGLdm"
      }
    },
    {
      "cell_type": "code",
      "source": [
        "# split using a character we determin, in this example its the comma\n",
        "\n",
        "tasks = 'get gloves,get mask,give cat vitamins,call ambulance'\n",
        "print(type(tasks))\n",
        "print(tasks.split(','))\n",
        "print(type(tasks.split(','))) # the list is not stored anywhere its just temporary\n",
        "print(type(tasks))"
      ],
      "metadata": {
        "colab": {
          "base_uri": "https://localhost:8080/"
        },
        "id": "VmNhQZInGSIt",
        "outputId": "e729f65f-978c-4ef8-8ff9-47ed424cbf40"
      },
      "execution_count": 1,
      "outputs": [
        {
          "output_type": "stream",
          "name": "stdout",
          "text": [
            "<class 'str'>\n",
            "['get gloves', 'get mask', 'give cat vitamins', 'call ambulance']\n",
            "<class 'list'>\n",
            "<class 'str'>\n"
          ]
        }
      ]
    },
    {
      "cell_type": "markdown",
      "source": [
        "*We will talk about lists in the next Module*"
      ],
      "metadata": {
        "id": "mfpWsiI9GjoO"
      }
    },
    {
      "cell_type": "code",
      "source": [
        "# lets split using spaces\n",
        "tasks.split()"
      ],
      "metadata": {
        "colab": {
          "base_uri": "https://localhost:8080/"
        },
        "id": "xP_56N6MGwHZ",
        "outputId": "b0141f90-e4ef-44d8-fb27-c4f763b53458"
      },
      "execution_count": null,
      "outputs": [
        {
          "output_type": "execute_result",
          "data": {
            "text/plain": [
              "['get', 'gloves,get', 'mask,give', 'cat', 'vitamins,call', 'ambulance']"
            ]
          },
          "metadata": {},
          "execution_count": 121
        }
      ]
    },
    {
      "cell_type": "markdown",
      "source": [
        "*We can use the join function as well when we know more about lists*"
      ],
      "metadata": {
        "id": "opwgslL8Im4y"
      }
    },
    {
      "cell_type": "code",
      "source": [
        "crypto_list = ['Yeti', 'Bigfoot', 'Loch Ness Monster']\n",
        "crypto_string = ', '.join(crypto_list)\n",
        "print('Found and signing book deals:', crypto_string)"
      ],
      "metadata": {
        "colab": {
          "base_uri": "https://localhost:8080/"
        },
        "id": "zJKtGMEJIx2K",
        "outputId": "625cd7b5-e153-4724-9ec1-27345aee4132"
      },
      "execution_count": null,
      "outputs": [
        {
          "output_type": "stream",
          "name": "stdout",
          "text": [
            "Found and signing book deals: Yeti, Bigfoot, Loch Ness Monster\n"
          ]
        }
      ]
    },
    {
      "cell_type": "markdown",
      "source": [
        "### **Strip with strip()**"
      ],
      "metadata": {
        "id": "YSXIsZVbJiIK"
      }
    },
    {
      "cell_type": "code",
      "source": [
        "world = \"    earth   \"\n",
        "print(world.strip(), '\\n') # implicitly strip front and rear spacing or left and right ;)\n",
        "\n",
        "print(world.strip(' '), '\\n')# explicitly strip front and rear spacing or left and right ;)\n",
        "\n",
        "print(world.lstrip(), '\\n')# explicitly strip front  spacing or left ;)\n",
        "\n",
        "print(world.rstrip(), '\\n')# explicitly strip  rear spacing or  right ;)\n"
      ],
      "metadata": {
        "colab": {
          "base_uri": "https://localhost:8080/"
        },
        "id": "P-dbUao2JmoZ",
        "outputId": "b9182aec-b88c-45d9-a667-db8e6aa281c1"
      },
      "execution_count": null,
      "outputs": [
        {
          "output_type": "stream",
          "name": "stdout",
          "text": [
            "earth \n",
            "\n",
            "earth \n",
            "\n",
            "earth    \n",
            "\n",
            "    earth \n",
            "\n"
          ]
        }
      ]
    },
    {
      "cell_type": "markdown",
      "source": [
        "### **Search and Select**"
      ],
      "metadata": {
        "id": "F9Qn8n6WKX86"
      }
    },
    {
      "cell_type": "code",
      "source": [
        "poem = '''All that doth flow we cannot liquid name\n",
        "Or else would fire and water be the same;\n",
        "But that is liquid which is moist and wet\n",
        "Fire that property can never get.\n",
        "Then 'tis not cold that doth the fire put out\n",
        "But 'tis the wet that makes it die, no doubt.'''\n",
        "print(poem,'\\n')\n",
        "\n",
        "#get the first 13 characters (offsets 0 to 12):\n",
        "\n",
        "print(poem[:13])\n"
      ],
      "metadata": {
        "colab": {
          "base_uri": "https://localhost:8080/"
        },
        "id": "AaPkj85WKZsf",
        "outputId": "1d28f992-dd49-4057-f2ec-adbf683dcd32"
      },
      "execution_count": null,
      "outputs": [
        {
          "output_type": "stream",
          "name": "stdout",
          "text": [
            "All that doth flow we cannot liquid name\n",
            "Or else would fire and water be the same;\n",
            "But that is liquid which is moist and wet\n",
            "Fire that property can never get.\n",
            "Then 'tis not cold that doth the fire put out\n",
            "But 'tis the wet that makes it die, no doubt. \n",
            "\n",
            "All that doth\n"
          ]
        }
      ]
    },
    {
      "cell_type": "code",
      "source": [
        "#Does it start with the letters All?\n",
        "\n",
        "print(poem.startswith('All')) # returns a boolean\n"
      ],
      "metadata": {
        "colab": {
          "base_uri": "https://localhost:8080/"
        },
        "id": "HysWamHOLGkq",
        "outputId": "0fe7a6ec-7e30-4581-d8fb-f01a8eea8f25"
      },
      "execution_count": null,
      "outputs": [
        {
          "output_type": "stream",
          "name": "stdout",
          "text": [
            "True\n"
          ]
        }
      ]
    },
    {
      "cell_type": "code",
      "source": [
        "# Does it end with That's all, folks!?\n",
        "\n",
        "print(poem.endswith('That\\'s all, folks!')) # returns a boolean \n"
      ],
      "metadata": {
        "colab": {
          "base_uri": "https://localhost:8080/"
        },
        "id": "o6efjdYnLOMP",
        "outputId": "f4f426b5-5ef5-47e1-ceb9-4ca5854b1550"
      },
      "execution_count": null,
      "outputs": [
        {
          "output_type": "stream",
          "name": "stdout",
          "text": [
            "False\n"
          ]
        }
      ]
    },
    {
      "cell_type": "code",
      "source": [
        "# lets use the find() function to find the word \"the\" in poem. (the first instance) it will retur the index where \"the\" starts\n",
        "word = 'the'\n",
        "print(poem.find(word))"
      ],
      "metadata": {
        "colab": {
          "base_uri": "https://localhost:8080/"
        },
        "id": "SoNxuxK7LibA",
        "outputId": "0a5a87a8-c074-4fc0-969e-fc6dd12be27f"
      },
      "execution_count": null,
      "outputs": [
        {
          "output_type": "stream",
          "name": "stdout",
          "text": [
            "73\n"
          ]
        }
      ]
    },
    {
      "cell_type": "code",
      "source": [
        "# Either of the functions can be used to find the last instance of the word 'the'\n",
        "\n",
        "print(poem.rfind(word)) # find first starting from the right\n",
        "\n",
        "print(poem.rindex(word)) # find the index starting from the right"
      ],
      "metadata": {
        "colab": {
          "base_uri": "https://localhost:8080/"
        },
        "id": "feXw_icVL_Hi",
        "outputId": "9f5021bd-eadb-49d6-a7f5-f6474bdeb73e"
      },
      "execution_count": null,
      "outputs": [
        {
          "output_type": "stream",
          "name": "stdout",
          "text": [
            "214\n",
            "214\n"
          ]
        }
      ]
    },
    {
      "cell_type": "markdown",
      "source": [
        "### **Case**"
      ],
      "metadata": {
        "id": "_q4pu1DeMfTl"
      }
    },
    {
      "cell_type": "code",
      "source": [
        "setup = 'a duck goes into a bar...'\n",
        "print(setup.strip('.')) # removes the  instances of .  for temporary use, value not stored... \n",
        "\n",
        "print(setup)\n"
      ],
      "metadata": {
        "colab": {
          "base_uri": "https://localhost:8080/"
        },
        "id": "FiKaQ9wyMjhJ",
        "outputId": "34181cc9-1119-4526-fe28-8ade83a49d4d"
      },
      "execution_count": null,
      "outputs": [
        {
          "output_type": "stream",
          "name": "stdout",
          "text": [
            "a duck goes into a bar\n",
            "a duck goes into a bar...\n"
          ]
        }
      ]
    },
    {
      "cell_type": "code",
      "source": [
        "#Capitalize the first word:\n",
        "print(setup.capitalize())\n",
        "print(setup)"
      ],
      "metadata": {
        "colab": {
          "base_uri": "https://localhost:8080/"
        },
        "id": "VEwBobj2M-3g",
        "outputId": "f420ff6d-b601-45ee-aa61-11c418d002b8"
      },
      "execution_count": null,
      "outputs": [
        {
          "output_type": "stream",
          "name": "stdout",
          "text": [
            "A duck goes into a bar...\n",
            "a duck goes into a bar...\n"
          ]
        }
      ]
    },
    {
      "cell_type": "code",
      "source": [
        "#Capitalize all the words:\n",
        "print(setup.title())\n",
        "print(setup)"
      ],
      "metadata": {
        "colab": {
          "base_uri": "https://localhost:8080/"
        },
        "id": "9E82Qf0tNShK",
        "outputId": "76a97f83-32f3-4c8e-bdfd-83913ba0a2b8"
      },
      "execution_count": null,
      "outputs": [
        {
          "output_type": "stream",
          "name": "stdout",
          "text": [
            "A Duck Goes Into A Bar...\n",
            "a duck goes into a bar...\n"
          ]
        }
      ]
    },
    {
      "cell_type": "code",
      "source": [
        "#Convert all characters to uppercase:\n",
        "print(setup.upper())\n",
        "print(setup)"
      ],
      "metadata": {
        "colab": {
          "base_uri": "https://localhost:8080/"
        },
        "id": "6W3UxFQfNXXq",
        "outputId": "f877d66a-c0f1-4ab1-ad9c-ab8c4aea6d7d"
      },
      "execution_count": null,
      "outputs": [
        {
          "output_type": "stream",
          "name": "stdout",
          "text": [
            "A DUCK GOES INTO A BAR...\n",
            "a duck goes into a bar...\n"
          ]
        }
      ]
    },
    {
      "cell_type": "code",
      "source": [
        "# Convert all characters to lowercase:\n",
        "\n",
        "print(setup.lower())\n",
        "print(setup)"
      ],
      "metadata": {
        "id": "S7lYIOmTNv8l",
        "colab": {
          "base_uri": "https://localhost:8080/"
        },
        "outputId": "09d2b83a-0d71-46d9-ffad-7b62da0bc17a"
      },
      "execution_count": null,
      "outputs": [
        {
          "output_type": "stream",
          "name": "stdout",
          "text": [
            "a duck goes into a bar...\n",
            "a duck goes into a bar...\n"
          ]
        }
      ]
    },
    {
      "cell_type": "code",
      "source": [
        "#Swap uppercase and lowercase:\n",
        "print(setup.swapcase())\n",
        "print(setup)"
      ],
      "metadata": {
        "id": "eXiT6W1AN2l4",
        "colab": {
          "base_uri": "https://localhost:8080/"
        },
        "outputId": "0659ae9e-c186-4861-adfb-2caad7684bc1"
      },
      "execution_count": null,
      "outputs": [
        {
          "output_type": "stream",
          "name": "stdout",
          "text": [
            "A DUCK GOES INTO A BAR...\n",
            "a duck goes into a bar...\n"
          ]
        }
      ]
    },
    {
      "cell_type": "code",
      "source": [
        "#Your Turn\n",
        "\n",
        "# Save the variable setup as all uppercase and display a statement; next display setup and save it as each word capitalized. hint: for long term replaceing things see second block of code in replace() section of notebook above\n",
        "\n"
      ],
      "metadata": {
        "id": "CJh4YPooODZx"
      },
      "execution_count": null,
      "outputs": []
    },
    {
      "cell_type": "markdown",
      "source": [
        "### **Alignment**"
      ],
      "metadata": {
        "id": "Z7ktGu6_PTQp"
      }
    },
    {
      "cell_type": "code",
      "source": [
        "#Center the string within 30 spaces:\n",
        "print(setup)\n",
        "print(setup.center(30)) # an extra 5 spaces split between front and back\n",
        "print(len(setup)) # how long is setup\n",
        "print(len(setup.center(30))) #how long is it displayed using center(30)"
      ],
      "metadata": {
        "colab": {
          "base_uri": "https://localhost:8080/"
        },
        "id": "5cTbHlokPe-h",
        "outputId": "72ebea7d-e007-43b2-c506-cd600e815100"
      },
      "execution_count": null,
      "outputs": [
        {
          "output_type": "stream",
          "name": "stdout",
          "text": [
            "a duck goes into a bar...\n",
            "  a duck goes into a bar...   \n",
            "25\n",
            "30\n"
          ]
        }
      ]
    },
    {
      "cell_type": "code",
      "source": [
        "print(setup)\n",
        "print(setup.ljust(30))\n",
        "print(len(setup)) # how long is setup\n",
        "print(len(setup.ljust(30)))"
      ],
      "metadata": {
        "colab": {
          "base_uri": "https://localhost:8080/"
        },
        "id": "ThUniBuqQNN3",
        "outputId": "d5a3618f-d320-4386-9fd5-4f376691ef0b"
      },
      "execution_count": null,
      "outputs": [
        {
          "output_type": "stream",
          "name": "stdout",
          "text": [
            "a duck goes into a bar...\n",
            "a duck goes into a bar...     \n",
            "25\n",
            "30\n"
          ]
        }
      ]
    },
    {
      "cell_type": "code",
      "source": [
        "print(setup)\n",
        "print(setup.rjust(30))\n",
        "print(len(setup)) # how long is setup\n",
        "print(len(setup.rjust(30)))"
      ],
      "metadata": {
        "colab": {
          "base_uri": "https://localhost:8080/"
        },
        "id": "SCZYWEGNQQob",
        "outputId": "61a4bd02-2202-4209-ef51-bdf368c31619"
      },
      "execution_count": null,
      "outputs": [
        {
          "output_type": "stream",
          "name": "stdout",
          "text": [
            "a duck goes into a bar...\n",
            "     a duck goes into a bar...\n",
            "25\n",
            "30\n"
          ]
        }
      ]
    },
    {
      "cell_type": "code",
      "source": [
        "from IPython.display import YouTubeVideo\n",
        "YouTubeVideo('c5EeAQ2uicw', width=800, height=300)"
      ],
      "metadata": {
        "id": "fOJp_itJfqGR",
        "outputId": "2edc4558-22dc-4043-b36a-742e990d47f3",
        "colab": {
          "base_uri": "https://localhost:8080/",
          "height": 321
        }
      },
      "execution_count": null,
      "outputs": [
        {
          "output_type": "execute_result",
          "data": {
            "text/plain": [
              "<IPython.lib.display.YouTubeVideo at 0x7f9a648abf10>"
            ],
            "text/html": [
              "\n",
              "        <iframe\n",
              "            width=\"800\"\n",
              "            height=\"300\"\n",
              "            src=\"https://www.youtube.com/embed/c5EeAQ2uicw\"\n",
              "            frameborder=\"0\"\n",
              "            allowfullscreen\n",
              "        ></iframe>\n",
              "        "
            ],
            "image/jpeg": "[encoded data removed]"
          },
          "metadata": {},
          "execution_count": 4
        }
      ]
    },
    {
      "cell_type": "markdown",
      "source": [
        "### **String Formatting styles**"
      ],
      "metadata": {
        "id": "KRYba7yZPXOq"
      }
    },
    {
      "cell_type": "markdown",
      "source": [
        "* old style (supported in Python 2 and 3)\n",
        "\n",
        "* new style (Python 2.6 and up)\n",
        "\n",
        "* f-strings (Python 3.6 and up)"
      ],
      "metadata": {
        "id": "AiXwY8HnQuO2"
      }
    },
    {
      "cell_type": "markdown",
      "source": [
        "### **Old style: %**"
      ],
      "metadata": {
        "id": "J97HTXDPQ2Aa"
      }
    },
    {
      "cell_type": "markdown",
      "source": [
        "%s   $\\>$ $\\>$   string\n",
        "\n",
        "%d   $\\>$ $\\>$   decimal integer\n",
        "\n",
        "%x   $\\>$ $\\>$   hex integer\n",
        "\n",
        "%o   $\\>$ $\\>$   octal integer\n",
        "\n",
        "%f   $\\>$ $\\>$   decimal float\n",
        "\n",
        "%e    $\\>$ $\\>$  exponential float\n",
        "\n",
        "%g   $\\>$ $\\>$   decimal or exponential float\n",
        "\n",
        "%%    $\\>$ $\\>$  a literal %"
      ],
      "metadata": {
        "id": "Vd8J0u4nQ9BR"
      }
    },
    {
      "cell_type": "code",
      "source": [
        "actor = 'Richard Gere'\n",
        "cat = 'Chester'\n",
        "weight = 28\n",
        "\n",
        "print(\"My wife's favorite actor is %s\" % actor)\n",
        "\n",
        "print(\"Our cat %s weighs %s pounds\" % (cat, weight))"
      ],
      "metadata": {
        "colab": {
          "base_uri": "https://localhost:8080/"
        },
        "id": "IQe5CdIvPfhE",
        "outputId": "4b3a2003-4fe4-4ef7-cf5c-a74d85a80837"
      },
      "execution_count": null,
      "outputs": [
        {
          "output_type": "stream",
          "name": "stdout",
          "text": [
            "My wife's favorite actor is Richard Gere\n",
            "Our cat Chester weighs 28 pounds\n"
          ]
        }
      ]
    },
    {
      "cell_type": "code",
      "source": [
        "thing = 98.6\n",
        "print(type(thing))\n",
        "\n",
        "print('%f' % thing)\n",
        "print(type('%f' % thing)) #temp not permanent string commonly used when passing values to output\n",
        "print(type(thing))"
      ],
      "metadata": {
        "colab": {
          "base_uri": "https://localhost:8080/"
        },
        "id": "FQVik9YQRzeu",
        "outputId": "0b0368ee-94f5-48fb-ac11-02729e73eb16"
      },
      "execution_count": null,
      "outputs": [
        {
          "output_type": "stream",
          "name": "stdout",
          "text": [
            "<class 'float'>\n",
            "98.600000\n",
            "<class 'str'>\n",
            "<class 'float'>\n"
          ]
        }
      ]
    },
    {
      "cell_type": "markdown",
      "source": [
        "### **New style: {} and format()**"
      ],
      "metadata": {
        "id": "fKEOIhKQQ572"
      }
    },
    {
      "cell_type": "code",
      "source": [
        "thing = 'woodchuck'\n",
        "place = 'lake'\n",
        "print('{}'.format(thing))\n",
        "print('The {} is in the {}.'.format(thing, place)) #implicit order no index used\n",
        "print('The {1} is in the {0}.'.format(place, thing)) #explicit use of index"
      ],
      "metadata": {
        "colab": {
          "base_uri": "https://localhost:8080/"
        },
        "id": "bpftsiBcRZid",
        "outputId": "73eaa4af-e18a-4184-c30a-d8c0e4dad14c"
      },
      "execution_count": null,
      "outputs": [
        {
          "output_type": "stream",
          "name": "stdout",
          "text": [
            "woodchuck\n",
            "The woodchuck is in the lake.\n",
            "The woodchuck is in the lake.\n"
          ]
        }
      ]
    },
    {
      "cell_type": "markdown",
      "source": [
        "{} is also used to identify a dictionary. We will discuss dictionaries in a later module. "
      ],
      "metadata": {
        "id": "3pqjdkXISp-3"
      }
    },
    {
      "cell_type": "code",
      "source": [
        "#example of a dictionary\n",
        "d = {'thing': 'duck', 'place': 'bathtub'}\n",
        "print('The {0[thing]} is in the {0[place]}.'.format(d))"
      ],
      "metadata": {
        "colab": {
          "base_uri": "https://localhost:8080/"
        },
        "id": "v9t2h4jfSz5Z",
        "outputId": "ea18bc66-c0ad-43e6-ce76-ddc611b53e59"
      },
      "execution_count": null,
      "outputs": [
        {
          "output_type": "stream",
          "name": "stdout",
          "text": [
            "The duck is in the bathtub.\n"
          ]
        }
      ]
    },
    {
      "cell_type": "markdown",
      "source": [
        "\n",
        "\n",
        "These examples all printed their arguments with default formats. New-style formatting has a slightly different format string definition from the old-style one (examples follow):\n",
        "\n",
        "* An initial colon (':').\n",
        "\n",
        "* An optional fill character (default ' ') to pad the value string if it’s shorter than minwidth.\n",
        "\n",
        "* An optional alignment character. This time, left alignment is the default. * '<' also means left, '>' means right, and '^' means center.\n",
        "\n",
        "* An optional sign for numbers. Nothing means only prepend a minus sign ('-') for negative numbers. ' ' means prepend a minus sign for negative numbers, and a space (' ') for positive ones.\n",
        "\n",
        "* An optional minwidth. An optional period ('.') to separate minwidth and maxchars.\n",
        "\n",
        "* An optional maxchars.\n",
        "\n",
        "* The ***conversion type.***"
      ],
      "metadata": {
        "id": "HJqM8kQhTPaJ"
      }
    },
    {
      "cell_type": "code",
      "source": [
        "thing = 'wraith'\n",
        "place = 'window'\n",
        "print('The {} is at the {}'.format(thing, place))\n",
        "\n",
        "print('The {:10s} is at the {:10s}'.format(thing, place))\n",
        "\n",
        "print('The {:<10s} is at the {:<10s}'.format(thing, place))\n",
        "\n",
        "print('The {:^10s} is at the {:^10s}'.format(thing, place))\n",
        "\n",
        "print('The {:>10s} is at the {:>10s}'.format(thing, place))\n",
        "\n",
        "print('The {:!^10s} is at the {:!^10s}'.format(thing, place))\n"
      ],
      "metadata": {
        "colab": {
          "base_uri": "https://localhost:8080/"
        },
        "id": "kNttB30IUBvC",
        "outputId": "d825a5da-d5d8-4de4-84ae-5c86e3a93c06"
      },
      "execution_count": null,
      "outputs": [
        {
          "output_type": "stream",
          "name": "stdout",
          "text": [
            "The wraith is at the window\n",
            "The wraith     is at the window    \n",
            "The wraith     is at the window    \n",
            "The   wraith   is at the   window  \n",
            "The     wraith is at the     window\n",
            "The !!wraith!! is at the !!window!!\n"
          ]
        }
      ]
    },
    {
      "cell_type": "markdown",
      "source": [
        "## **Newest Style: f-strings**"
      ],
      "metadata": {
        "id": "5-q4Lb__UWFm"
      }
    },
    {
      "cell_type": "markdown",
      "source": [
        "To make an f-string:\n",
        "\n",
        "* Type the letter f or F directly before the initial quote.\n",
        "\n",
        "* Include variable names or expressions within curly brackets ({}) to get their values into the string."
      ],
      "metadata": {
        "id": "xZzcgVWUUpFB"
      }
    },
    {
      "cell_type": "code",
      "source": [
        "# lets use those placeholders and type the variable name in the {}\n",
        "thing = 'wereduck'\n",
        "place = 'werepond'\n",
        "print( f'The {thing} is in the {place}')\n"
      ],
      "metadata": {
        "colab": {
          "base_uri": "https://localhost:8080/"
        },
        "id": "UaCbtI6bUbSb",
        "outputId": "270035b7-a9e4-44c2-f077-b87c0ca99656"
      },
      "execution_count": null,
      "outputs": [
        {
          "output_type": "stream",
          "name": "stdout",
          "text": [
            "The wereduck is in the werepond\n"
          ]
        }
      ]
    },
    {
      "cell_type": "code",
      "source": [
        "# lets use alignment function applied to the object passed through the {}\n",
        "print(f'The {thing.capitalize()} is in the {place.rjust(20)}')"
      ],
      "metadata": {
        "colab": {
          "base_uri": "https://localhost:8080/"
        },
        "id": "2Uccq7ZtUv0_",
        "outputId": "4c475b67-62f5-42c8-d3e7-06f38e37bf5d"
      },
      "execution_count": null,
      "outputs": [
        {
          "output_type": "stream",
          "name": "stdout",
          "text": [
            "The Wereduck is in the             werepond\n"
          ]
        }
      ]
    },
    {
      "cell_type": "code",
      "source": [
        "# lets use the alignment again and width, padding\n",
        "print(f'The {thing:>20} is in the {place:.^20}')"
      ],
      "metadata": {
        "colab": {
          "base_uri": "https://localhost:8080/"
        },
        "id": "AyF4KFAEU1pI",
        "outputId": "ddbb6108-5506-4782-c1d7-f0b4118d89a5"
      },
      "execution_count": null,
      "outputs": [
        {
          "output_type": "stream",
          "name": "stdout",
          "text": [
            "The             wereduck is in the ......werepond......\n"
          ]
        }
      ]
    },
    {
      "cell_type": "code",
      "source": [
        "print(f'{thing =}, {place =}') # explicitly display the contents and name of variable by passing them with the ="
      ],
      "metadata": {
        "colab": {
          "base_uri": "https://localhost:8080/",
          "height": 131
        },
        "id": "JD9RyTzDVdrB",
        "outputId": "f2b8b1a8-9f2e-4eb3-b423-b8189f6be7c5"
      },
      "execution_count": null,
      "outputs": [
        {
          "output_type": "error",
          "ename": "SyntaxError",
          "evalue": "ignored",
          "traceback": [
            "\u001b[0;36m  File \u001b[0;32m\"<fstring>\"\u001b[0;36m, line \u001b[0;32m1\u001b[0m\n\u001b[0;31m    (thing =)\u001b[0m\n\u001b[0m           ^\u001b[0m\n\u001b[0;31mSyntaxError\u001b[0m\u001b[0;31m:\u001b[0m invalid syntax\n"
          ]
        }
      ]
    },
    {
      "cell_type": "markdown",
      "source": [
        "The above code **will not run** if you are using 3.7 or previous version of python which I am..."
      ],
      "metadata": {
        "id": "8fZOVvCxW1NO"
      }
    },
    {
      "cell_type": "markdown",
      "source": [
        "## **Things to try**"
      ],
      "metadata": {
        "id": "A-gimImcX8ym"
      }
    },
    {
      "cell_type": "code",
      "source": [
        "# Capitalize the word starting with m:\n",
        "song = \"\"\"When an eel grabs your arm,\n",
        "... And it causes great harm,\n",
        "... That's - a moray!\"\"\"\n",
        "\n",
        "# your code here"
      ],
      "metadata": {
        "id": "QeNSC6gyXHla"
      },
      "execution_count": null,
      "outputs": []
    },
    {
      "cell_type": "markdown",
      "source": [],
      "metadata": {
        "id": "r7w36zDXMqBS"
      }
    },
    {
      "cell_type": "code",
      "source": [
        "# split the string into a list of words\n",
        "# iterate over the words and find the word starting with \"m\"\n",
        "# join the words back into a string\n",
        "my code below"
      ],
      "metadata": {
        "id": "EM5HZFMKMqr9"
      },
      "execution_count": null,
      "outputs": []
    },
    {
      "cell_type": "code",
      "source": [
        "song = \"\"\"When an eel grabs your arm,\n",
        "And it causes great harm,\n",
        "That's - a moray!\"\"\"\n",
        "\n",
        "# split the string into a list of words\n",
        "words = song.split()\n",
        "\n",
        "# iterate over the words and find the word starting with \"m\"\n",
        "for i, word in enumerate(words):\n",
        "    if word.startswith('m') or word.startswith('M'):\n",
        "        # capitalize the word\n",
        "        words[i] = word.capitalize()\n",
        "\n",
        "# join the words back into a string\n",
        "song = ' '.join(words)\n",
        "\n",
        "print(song)\n"
      ],
      "metadata": {
        "colab": {
          "base_uri": "https://localhost:8080/"
        },
        "id": "qKWoXw-aMkbQ",
        "outputId": "11e98558-c04d-4e0d-8e52-b3f4ab73424f"
      },
      "execution_count": 2,
      "outputs": [
        {
          "output_type": "stream",
          "name": "stdout",
          "text": [
            "When an eel grabs your arm, And it causes great harm, That's - a Moray!\n"
          ]
        }
      ]
    },
    {
      "cell_type": "code",
      "source": [
        "# Print each list question with its correctly matching answer, in the form:\n",
        "questions = [\n",
        "    \"We don't serve strings around here. Are you a string?\",\n",
        "    \"What is said on Father's Day in the forest?\",\n",
        "    \"What makes the sound 'Sis! Boom! Bah!'?\"\n",
        "  ]\n",
        "answers = [\n",
        "    \"An exploding sheep.\",\n",
        "    \"No, I'm a frayed knot.\",\n",
        "    \"'Pop!' goes the weasel.\"\n",
        "  ]\n",
        "\n",
        "  \n",
        "# your code here\n"
      ],
      "metadata": {
        "id": "m8FTqfh0XpEA"
      },
      "execution_count": null,
      "outputs": []
    },
    {
      "cell_type": "code",
      "source": [
        "questions = [\n",
        "    \"We don't serve strings around here. Are you a string?\",\n",
        "    \"What is said on Father's Day in the forest?\",\n",
        "    \"What makes the sound 'Sis! Boom! Bah!'?\"\n",
        "]\n",
        "\n",
        "answers = [\n",
        "    \"No, I'm a frayed Knot.\" ,\n",
        "    \"'Pop!'goes the weasel.\" , \n",
        "    \"An exploading sheep.\"\n",
        "]\n",
        "\n",
        "# iterate over the questions and print the corresponding answer\n",
        "for i, question in enumerate(questions):\n",
        "    print(question)\n",
        "    print(answers[i])\n",
        "    print() # print an empty line for spacing\n"
      ],
      "metadata": {
        "id": "0OFs_EbGYCTV",
        "colab": {
          "base_uri": "https://localhost:8080/"
        },
        "outputId": "28523f56-dba9-49f0-b898-a97b44f75405"
      },
      "execution_count": 5,
      "outputs": [
        {
          "output_type": "stream",
          "name": "stdout",
          "text": [
            "We don't serve strings around here. Are you a string?\n",
            "No, I'm a frayed Knot.\n",
            "\n",
            "What is said on Father's Day in the forest?\n",
            "'Pop!'goes the weasel.\n",
            "\n",
            "What makes the sound 'Sis! Boom! Bah!'?\n",
            "An exploading sheep.\n",
            "\n"
          ]
        }
      ]
    }
  ]
}